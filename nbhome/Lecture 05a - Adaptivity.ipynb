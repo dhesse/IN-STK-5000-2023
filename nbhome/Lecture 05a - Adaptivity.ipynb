{
 "cells": [
  {
   "cell_type": "code",
   "execution_count": null,
   "id": "b04392fc-5370-4b6a-b522-8d1d46cb9c69",
   "metadata": {},
   "outputs": [],
   "source": [
    "!pip install river"
   ]
  },
  {
   "cell_type": "code",
   "execution_count": 1,
   "id": "f737626c-a0ee-412e-87f1-37059afa7f2c",
   "metadata": {},
   "outputs": [],
   "source": [
    "from river import datasets, metrics, evaluate, linear_model"
   ]
  },
  {
   "cell_type": "code",
   "execution_count": 2,
   "id": "ba7713b7-0ee2-4a9a-873a-9a2de78d883b",
   "metadata": {},
   "outputs": [],
   "source": [
    "dataset = datasets.Phishing()"
   ]
  },
  {
   "cell_type": "code",
   "execution_count": 4,
   "id": "9f14639a-4b5f-4fbd-b228-a32d44253c78",
   "metadata": {},
   "outputs": [
    {
     "data": {
      "text/plain": [
       "\u001b[0;31mInit signature:\u001b[0m \u001b[0mdatasets\u001b[0m\u001b[0;34m.\u001b[0m\u001b[0mPhishing\u001b[0m\u001b[0;34m(\u001b[0m\u001b[0;34m)\u001b[0m\u001b[0;34m\u001b[0m\u001b[0;34m\u001b[0m\u001b[0m\n",
       "\u001b[0;31mDocstring:\u001b[0m     \n",
       "Phishing websites.\n",
       "\n",
       "This dataset contains features from web pages that are classified as phishing or not.\n",
       "\n",
       "References\n",
       "----------\n",
       "[^1]: [UCI page](http://archive.ics.uci.edu/ml/datasets/Website+Phishing)\n",
       "\u001b[0;31mFile:\u001b[0m           ~/.pyenv/versions/3.10.4/lib/python3.10/site-packages/river/datasets/phishing.py\n",
       "\u001b[0;31mType:\u001b[0m           ABCMeta\n",
       "\u001b[0;31mSubclasses:\u001b[0m     \n"
      ]
     },
     "metadata": {},
     "output_type": "display_data"
    }
   ],
   "source": [
    "?datasets.Phishing"
   ]
  },
  {
   "cell_type": "code",
   "execution_count": 5,
   "id": "ec3fe030-cb08-45ed-8c6e-d023a1ffa5a6",
   "metadata": {},
   "outputs": [],
   "source": [
    "model = linear_model.LogisticRegression()"
   ]
  },
  {
   "cell_type": "code",
   "execution_count": 6,
   "id": "4d9a8069-7869-4bf8-b002-bbf3f036c463",
   "metadata": {},
   "outputs": [],
   "source": [
    "metric = metrics.ROCAUC()"
   ]
  },
  {
   "cell_type": "code",
   "execution_count": 7,
   "id": "afee99ba-94d1-4918-b155-fdd99ecb7fbe",
   "metadata": {},
   "outputs": [
    {
     "name": "stdout",
     "output_type": "stream",
     "text": [
      "ROCAUC: -0.00%\n",
      "ROCAUC: 54.73%\n",
      "ROCAUC: 55.39%\n",
      "ROCAUC: 57.60%\n",
      "ROCAUC: 57.62%\n",
      "ROCAUC: 56.75%\n",
      "ROCAUC: 58.20%\n",
      "ROCAUC: 59.36%\n",
      "ROCAUC: 61.74%\n",
      "ROCAUC: 63.95%\n",
      "ROCAUC: 65.85%\n",
      "ROCAUC: 68.05%\n",
      "ROCAUC: 69.13%\n"
     ]
    }
   ],
   "source": [
    "for i, (x, y) in enumerate(dataset):\n",
    "    y_pred = model.predict_one(x)\n",
    "    model = model.learn_one(x, y)\n",
    "    metric = metric.update(y, y_pred)\n",
    "    if i % 100 == 0:\n",
    "        print(metric)"
   ]
  },
  {
   "cell_type": "code",
   "execution_count": null,
   "id": "01c3b72b-7d7d-4ac5-8b07-10c5f379d3de",
   "metadata": {},
   "outputs": [],
   "source": []
  }
 ],
 "metadata": {
  "kernelspec": {
   "display_name": "Python 3 (ipykernel)",
   "language": "python",
   "name": "python3"
  },
  "language_info": {
   "codemirror_mode": {
    "name": "ipython",
    "version": 3
   },
   "file_extension": ".py",
   "mimetype": "text/x-python",
   "name": "python",
   "nbconvert_exporter": "python",
   "pygments_lexer": "ipython3",
   "version": "3.10.4"
  }
 },
 "nbformat": 4,
 "nbformat_minor": 5
}
