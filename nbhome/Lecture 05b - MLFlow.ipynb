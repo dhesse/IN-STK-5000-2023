{
 "cells": [
  {
   "cell_type": "code",
   "execution_count": 1,
   "id": "22eb9cac-a59e-45c6-af45-fd46c35da778",
   "metadata": {},
   "outputs": [
    {
     "name": "stderr",
     "output_type": "stream",
     "text": [
      "/Users/DIRH/.pyenv/versions/3.10.4/lib/python3.10/site-packages/pydantic/_internal/_fields.py:127: UserWarning: Field \"model_server_url\" has conflict with protected namespace \"model_\".\n",
      "\n",
      "You may be able to resolve this warning by setting `model_config['protected_namespaces'] = ()`.\n",
      "  warnings.warn(\n",
      "/Users/DIRH/.pyenv/versions/3.10.4/lib/python3.10/site-packages/pydantic/_internal/_config.py:269: UserWarning: Valid config keys have changed in V2:\n",
      "* 'schema_extra' has been renamed to 'json_schema_extra'\n",
      "  warnings.warn(message, UserWarning)\n"
     ]
    }
   ],
   "source": [
    "from sklearn.ensemble import RandomForestClassifier\n",
    "from sklearn.ensemble import AdaBoostClassifier\n",
    "from sklearn.tree import DecisionTreeClassifier\n",
    "from sklearn.datasets import load_digits\n",
    "from sklearn.model_selection import GridSearchCV, train_test_split\n",
    "from sklearn.metrics import accuracy_score\n",
    "\n",
    "import mlflow"
   ]
  },
  {
   "cell_type": "code",
   "execution_count": 2,
   "id": "032145ba-b4a1-4dcf-a4e2-98716310282d",
   "metadata": {},
   "outputs": [],
   "source": [
    "# run mlflow ui in working directory"
   ]
  },
  {
   "cell_type": "code",
   "execution_count": 3,
   "id": "9a6dd4c4-768a-4771-a5ee-bcf40e4f7ce5",
   "metadata": {},
   "outputs": [
    {
     "name": "stderr",
     "output_type": "stream",
     "text": [
      "2023/10/02 13:32:16 INFO mlflow.tracking.fluent: Experiment with name 'IN-STK 5000' does not exist. Creating a new experiment.\n"
     ]
    },
    {
     "data": {
      "text/plain": [
       "<Experiment: artifact_location='file:///Users/DIRH/code/uio/IN-STK5000-Autumn-2023-Materials/nbhome/mlruns/288397854828014395', creation_time=1696246336696, experiment_id='288397854828014395', last_update_time=1696246336696, lifecycle_stage='active', name='IN-STK 5000', tags={}>"
      ]
     },
     "execution_count": 3,
     "metadata": {},
     "output_type": "execute_result"
    }
   ],
   "source": [
    "mlflow.set_experiment(\"IN-STK 5000\")"
   ]
  },
  {
   "cell_type": "code",
   "execution_count": 4,
   "id": "61be7621-58e3-4316-952a-61fdfb61ba11",
   "metadata": {},
   "outputs": [],
   "source": [
    "digits = load_digits()"
   ]
  },
  {
   "cell_type": "code",
   "execution_count": 5,
   "id": "2000efac-a0f7-408a-ab63-d053d5315edf",
   "metadata": {},
   "outputs": [],
   "source": [
    "Xtrain, Xtest, ytrain, ytest = train_test_split(digits['data'], digits['target'], test_size=20)"
   ]
  },
  {
   "cell_type": "code",
   "execution_count": 6,
   "id": "af50f566-ba86-4f03-851d-18d71756978c",
   "metadata": {},
   "outputs": [
    {
     "name": "stderr",
     "output_type": "stream",
     "text": [
      "2023/10/02 13:34:10 INFO mlflow.tracking.fluent: Autologging successfully enabled for sklearn.\n"
     ]
    }
   ],
   "source": [
    "mlflow.autolog()"
   ]
  },
  {
   "cell_type": "code",
   "execution_count": 7,
   "id": "b40fa295-444d-47ce-8cb8-bab2226ece23",
   "metadata": {},
   "outputs": [],
   "source": [
    "# now is the point of no return, mlflow will stop logging if we go back"
   ]
  },
  {
   "cell_type": "code",
   "execution_count": 8,
   "id": "1e8e96d6-d140-4aea-ad4e-adcc65272733",
   "metadata": {},
   "outputs": [],
   "source": [
    "with mlflow.start_run():\n",
    "    forest = RandomForestClassifier().fit(Xtrain, ytrain)"
   ]
  },
  {
   "cell_type": "code",
   "execution_count": 10,
   "id": "e825c0f5-39e0-40a1-a676-85bc17a17b64",
   "metadata": {},
   "outputs": [],
   "source": [
    "def log_accuracy(model):\n",
    "    y_pred = model.predict(Xtest)\n",
    "    mlflow.log_metric('test_accuracy', accuracy_score(ytest, y_pred))"
   ]
  },
  {
   "cell_type": "code",
   "execution_count": 11,
   "id": "d94014ac-8579-4576-a648-14f3e860a879",
   "metadata": {},
   "outputs": [],
   "source": [
    "with mlflow.start_run():\n",
    "    forest = RandomForestClassifier().fit(Xtrain, ytrain)\n",
    "    log_accuracy(forest)"
   ]
  },
  {
   "cell_type": "code",
   "execution_count": 12,
   "id": "ea3485c5-603c-44eb-99fb-06ea53ae7488",
   "metadata": {},
   "outputs": [],
   "source": [
    "with mlflow.start_run():\n",
    "    gbc = AdaBoostClassifier(DecisionTreeClassifier(max_depth=3)).fit(Xtrain, ytrain)\n",
    "    log_accuracy(gbc)"
   ]
  },
  {
   "cell_type": "code",
   "execution_count": 13,
   "id": "a624eafb-f648-44f6-9563-28d67cfd54e6",
   "metadata": {},
   "outputs": [],
   "source": [
    "for n_est in (20, 50, 100, 150):\n",
    "    with mlflow.start_run():\n",
    "        forest = RandomForestClassifier(n_estimators=n_est).fit(Xtrain, ytrain)\n",
    "        log_accuracy(forest)"
   ]
  },
  {
   "cell_type": "code",
   "execution_count": 14,
   "id": "2e2ae08e-ac2e-4930-8951-0d7e1e2ad5ea",
   "metadata": {},
   "outputs": [],
   "source": [
    "from sklearn.pipeline import Pipeline\n",
    "from sklearn.feature_selection import VarianceThreshold, SelectKBest, f_classif"
   ]
  },
  {
   "cell_type": "code",
   "execution_count": 15,
   "id": "91dd34d0-4fd3-49b6-ba89-7a0b6ddaebc3",
   "metadata": {},
   "outputs": [
    {
     "name": "stderr",
     "output_type": "stream",
     "text": [
      "2023/10/02 13:56:29 INFO mlflow.sklearn.utils: Logging the 5 best runs, no runs will be omitted.\n"
     ]
    }
   ],
   "source": [
    "with mlflow.start_run():\n",
    "    model = Pipeline([\n",
    "        (\"variance_th\", VarianceThreshold()),\n",
    "        (\"k_best\", SelectKBest()),\n",
    "        (\"random_forest\", RandomForestClassifier())])\n",
    "    param = {'random_forest__max_depth': (20, 30, 40)}\n",
    "    cv = GridSearchCV(model, param)\n",
    "    cv.fit(Xtrain, ytrain)"
   ]
  },
  {
   "cell_type": "code",
   "execution_count": 16,
   "id": "e974aaa7-bec6-4093-87c4-2c4ed17a8937",
   "metadata": {},
   "outputs": [
    {
     "name": "stderr",
     "output_type": "stream",
     "text": [
      "2023/10/02 13:57:36 INFO mlflow.sklearn.utils: Logging the 5 best runs, no runs will be omitted.\n"
     ]
    }
   ],
   "source": [
    "with mlflow.start_run():\n",
    "    model = Pipeline([\n",
    "        (\"variance_th\", VarianceThreshold()),\n",
    "        (\"k_best\", SelectKBest()),\n",
    "        (\"random_forest\", RandomForestClassifier())])\n",
    "    param = {'random_forest__n_estimators': (20, 30, 40)}\n",
    "    cv = GridSearchCV(model, param)\n",
    "    cv.fit(Xtrain, ytrain)"
   ]
  },
  {
   "cell_type": "code",
   "execution_count": null,
   "id": "7369cc5c-7f67-44c6-a18e-5e863e31f5e2",
   "metadata": {},
   "outputs": [],
   "source": []
  }
 ],
 "metadata": {
  "kernelspec": {
   "display_name": "Python 3 (ipykernel)",
   "language": "python",
   "name": "python3"
  },
  "language_info": {
   "codemirror_mode": {
    "name": "ipython",
    "version": 3
   },
   "file_extension": ".py",
   "mimetype": "text/x-python",
   "name": "python",
   "nbconvert_exporter": "python",
   "pygments_lexer": "ipython3",
   "version": "3.10.4"
  }
 },
 "nbformat": 4,
 "nbformat_minor": 5
}
