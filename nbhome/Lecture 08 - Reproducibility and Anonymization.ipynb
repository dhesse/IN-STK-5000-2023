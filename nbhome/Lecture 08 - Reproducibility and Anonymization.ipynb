{
 "cells": [
  {
   "cell_type": "markdown",
   "id": "c74c6dfb-c7b2-42d5-938e-f4acbf4e63d2",
   "metadata": {},
   "source": [
    "# Data Leakage (Shooting yourself in the foot)"
   ]
  },
  {
   "cell_type": "code",
   "execution_count": 8,
   "id": "172c931b-a892-437b-bee3-be63e7ec6d47",
   "metadata": {},
   "outputs": [],
   "source": [
    "import pandas as pd"
   ]
  },
  {
   "cell_type": "code",
   "execution_count": 1,
   "id": "96bfd3f1-2cc7-49ad-ab6d-5ff39cab38a9",
   "metadata": {},
   "outputs": [],
   "source": [
    "from sklearn.linear_model import LogisticRegression\n",
    "import numpy"
   ]
  },
  {
   "cell_type": "code",
   "execution_count": 3,
   "id": "78e0fbef-e368-4847-9147-4ae2a87f1402",
   "metadata": {},
   "outputs": [],
   "source": [
    "k, N = 5_000, 500"
   ]
  },
  {
   "cell_type": "code",
   "execution_count": 4,
   "id": "d48c3fc8-b1ce-49cd-9cc0-ad75114ea582",
   "metadata": {},
   "outputs": [],
   "source": [
    "X = numpy.random.rand(k*N).reshape(N, k)\n",
    "y = numpy.random.choice([0, 1], N)"
   ]
  },
  {
   "cell_type": "code",
   "execution_count": 5,
   "id": "549229b9-a862-4fef-afa8-8e389c70a299",
   "metadata": {},
   "outputs": [],
   "source": [
    "from sklearn.feature_selection import SelectKBest"
   ]
  },
  {
   "cell_type": "code",
   "execution_count": 6,
   "id": "fd2c9fd4-44cc-4ac0-bc23-3ddd0dc46714",
   "metadata": {},
   "outputs": [],
   "source": [
    "Xp = SelectKBest(k=10).fit_transform(X, y)"
   ]
  },
  {
   "cell_type": "code",
   "execution_count": 7,
   "id": "7c8d76ca-7136-4919-96af-2f8572bea99e",
   "metadata": {},
   "outputs": [],
   "source": [
    "import seaborn"
   ]
  },
  {
   "cell_type": "code",
   "execution_count": 9,
   "id": "c2a9c88e-1e09-4d8a-b5f8-3e23c091e3da",
   "metadata": {},
   "outputs": [],
   "source": [
    "from sklearn.model_selection import cross_val_score"
   ]
  },
  {
   "cell_type": "code",
   "execution_count": 15,
   "id": "046847a9-6461-4144-9fff-a8027f3e0977",
   "metadata": {},
   "outputs": [
    {
     "data": {
      "text/plain": [
       "<AxesSubplot:ylabel='Frequency'>"
      ]
     },
     "execution_count": 15,
     "metadata": {},
     "output_type": "execute_result"
    },
    {
     "data": {
      "image/png": "[encoded data removed]",
      "text/plain": [
       "<Figure size 432x288 with 1 Axes>"
      ]
     },
     "metadata": {
      "needs_background": "light"
     },
     "output_type": "display_data"
    }
   ],
   "source": [
    "pd.Series(cross_val_score(LogisticRegression(), Xp, y, cv=100)).plot.hist(bins=5)"
   ]
  },
  {
   "cell_type": "markdown",
   "id": "df7e24fb-66e5-4102-a451-b81b9d00e61a",
   "metadata": {},
   "source": [
    "## The correct way"
   ]
  },
  {
   "cell_type": "code",
   "execution_count": 16,
   "id": "cbc5c338-0a0f-4264-802a-de81dc4932d3",
   "metadata": {},
   "outputs": [],
   "source": [
    "from sklearn.pipeline import Pipeline"
   ]
  },
  {
   "cell_type": "code",
   "execution_count": 18,
   "id": "7468baa4-3d56-426f-a0ec-dded6185e1cd",
   "metadata": {},
   "outputs": [],
   "source": [
    "model = Pipeline(steps=[\n",
    "    ('feature_select', SelectKBest(k=10)),\n",
    "    ('model', LogisticRegression())])"
   ]
  },
  {
   "cell_type": "code",
   "execution_count": 19,
   "id": "95241810-5ca8-47dd-9663-a0aa4da5c7e8",
   "metadata": {},
   "outputs": [
    {
     "data": {
      "text/plain": [
       "<AxesSubplot:ylabel='Frequency'>"
      ]
     },
     "execution_count": 19,
     "metadata": {},
     "output_type": "execute_result"
    },
    {
     "data": {
      "image/png": "[encoded data removed]",
      "text/plain": [
       "<Figure size 432x288 with 1 Axes>"
      ]
     },
     "metadata": {
      "needs_background": "light"
     },
     "output_type": "display_data"
    }
   ],
   "source": [
    "pd.Series(cross_val_score(model, X, y, cv=100)).plot.hist()"
   ]
  },
  {
   "cell_type": "markdown",
   "id": "f8d1435e-e1d1-4ce7-b3aa-ab99d2c6e623",
   "metadata": {},
   "source": [
    "# Reproducibility"
   ]
  },
  {
   "cell_type": "code",
   "execution_count": 20,
   "id": "45cf1bc1-b20d-4f1d-a5a0-9c3afc9fe1d9",
   "metadata": {},
   "outputs": [],
   "source": [
    "df = pd.read_csv(\"data/income_data.csv\")"
   ]
  },
  {
   "cell_type": "code",
   "execution_count": 21,
   "id": "0b86bb8a-b6ac-4897-8517-b67f8d0882c6",
   "metadata": {},
   "outputs": [
    {
     "data": {
      "text/html": [
       "<div>\n",
       "<style scoped>\n",
       "    .dataframe tbody tr th:only-of-type {\n",
       "        vertical-align: middle;\n",
       "    }\n",
       "\n",
       "    .dataframe tbody tr th {\n",
       "        vertical-align: top;\n",
       "    }\n",
       "\n",
       "    .dataframe thead th {\n",
       "        text-align: right;\n",
       "    }\n",
       "</style>\n",
       "<table border=\"1\" class=\"dataframe\">\n",
       "  <thead>\n",
       "    <tr style=\"text-align: right;\">\n",
       "      <th></th>\n",
       "      <th>age</th>\n",
       "      <th>workclass</th>\n",
       "      <th>fnlwgt</th>\n",
       "      <th>education</th>\n",
       "      <th>education-num</th>\n",
       "      <th>marital-status</th>\n",
       "      <th>occupation</th>\n",
       "      <th>relationship</th>\n",
       "      <th>race</th>\n",
       "      <th>sex</th>\n",
       "      <th>capital-gain</th>\n",
       "      <th>capital-loss</th>\n",
       "      <th>hours-per-week</th>\n",
       "      <th>native-country</th>\n",
       "      <th>income</th>\n",
       "      <th>target</th>\n",
       "    </tr>\n",
       "  </thead>\n",
       "  <tbody>\n",
       "    <tr>\n",
       "      <th>0</th>\n",
       "      <td>39</td>\n",
       "      <td>State-gov</td>\n",
       "      <td>77516</td>\n",
       "      <td>Bachelors</td>\n",
       "      <td>13</td>\n",
       "      <td>Never-married</td>\n",
       "      <td>Adm-clerical</td>\n",
       "      <td>Not-in-family</td>\n",
       "      <td>White</td>\n",
       "      <td>Male</td>\n",
       "      <td>2174</td>\n",
       "      <td>0</td>\n",
       "      <td>40</td>\n",
       "      <td>United-States</td>\n",
       "      <td>&lt;=50K</td>\n",
       "      <td>0</td>\n",
       "    </tr>\n",
       "    <tr>\n",
       "      <th>1</th>\n",
       "      <td>50</td>\n",
       "      <td>Self-emp-not-inc</td>\n",
       "      <td>83311</td>\n",
       "      <td>Bachelors</td>\n",
       "      <td>13</td>\n",
       "      <td>Married-civ-spouse</td>\n",
       "      <td>Exec-managerial</td>\n",
       "      <td>Husband</td>\n",
       "      <td>White</td>\n",
       "      <td>Male</td>\n",
       "      <td>0</td>\n",
       "      <td>0</td>\n",
       "      <td>13</td>\n",
       "      <td>United-States</td>\n",
       "      <td>&lt;=50K</td>\n",
       "      <td>0</td>\n",
       "    </tr>\n",
       "    <tr>\n",
       "      <th>2</th>\n",
       "      <td>38</td>\n",
       "      <td>Private</td>\n",
       "      <td>215646</td>\n",
       "      <td>HS-grad</td>\n",
       "      <td>9</td>\n",
       "      <td>Divorced</td>\n",
       "      <td>Handlers-cleaners</td>\n",
       "      <td>Not-in-family</td>\n",
       "      <td>White</td>\n",
       "      <td>Male</td>\n",
       "      <td>0</td>\n",
       "      <td>0</td>\n",
       "      <td>40</td>\n",
       "      <td>United-States</td>\n",
       "      <td>&lt;=50K</td>\n",
       "      <td>0</td>\n",
       "    </tr>\n",
       "    <tr>\n",
       "      <th>3</th>\n",
       "      <td>53</td>\n",
       "      <td>Private</td>\n",
       "      <td>234721</td>\n",
       "      <td>11th</td>\n",
       "      <td>7</td>\n",
       "      <td>Married-civ-spouse</td>\n",
       "      <td>Handlers-cleaners</td>\n",
       "      <td>Husband</td>\n",
       "      <td>Black</td>\n",
       "      <td>Male</td>\n",
       "      <td>0</td>\n",
       "      <td>0</td>\n",
       "      <td>40</td>\n",
       "      <td>United-States</td>\n",
       "      <td>&lt;=50K</td>\n",
       "      <td>0</td>\n",
       "    </tr>\n",
       "    <tr>\n",
       "      <th>4</th>\n",
       "      <td>28</td>\n",
       "      <td>Private</td>\n",
       "      <td>338409</td>\n",
       "      <td>Bachelors</td>\n",
       "      <td>13</td>\n",
       "      <td>Married-civ-spouse</td>\n",
       "      <td>Prof-specialty</td>\n",
       "      <td>Wife</td>\n",
       "      <td>Black</td>\n",
       "      <td>Female</td>\n",
       "      <td>0</td>\n",
       "      <td>0</td>\n",
       "      <td>40</td>\n",
       "      <td>Cuba</td>\n",
       "      <td>&lt;=50K</td>\n",
       "      <td>0</td>\n",
       "    </tr>\n",
       "  </tbody>\n",
       "</table>\n",
       "</div>"
      ],
      "text/plain": [
       "   age          workclass  fnlwgt   education  education-num  \\\n",
       "0   39          State-gov   77516   Bachelors             13   \n",
       "1   50   Self-emp-not-inc   83311   Bachelors             13   \n",
       "2   38            Private  215646     HS-grad              9   \n",
       "3   53            Private  234721        11th              7   \n",
       "4   28            Private  338409   Bachelors             13   \n",
       "\n",
       "        marital-status          occupation    relationship    race      sex  \\\n",
       "0        Never-married        Adm-clerical   Not-in-family   White     Male   \n",
       "1   Married-civ-spouse     Exec-managerial         Husband   White     Male   \n",
       "2             Divorced   Handlers-cleaners   Not-in-family   White     Male   \n",
       "3   Married-civ-spouse   Handlers-cleaners         Husband   Black     Male   \n",
       "4   Married-civ-spouse      Prof-specialty            Wife   Black   Female   \n",
       "\n",
       "   capital-gain  capital-loss  hours-per-week  native-country  income  target  \n",
       "0          2174             0              40   United-States   <=50K       0  \n",
       "1             0             0              13   United-States   <=50K       0  \n",
       "2             0             0              40   United-States   <=50K       0  \n",
       "3             0             0              40   United-States   <=50K       0  \n",
       "4             0             0              40            Cuba   <=50K       0  "
      ]
     },
     "execution_count": 21,
     "metadata": {},
     "output_type": "execute_result"
    }
   ],
   "source": [
    "df.head()"
   ]
  },
  {
   "cell_type": "code",
   "execution_count": 22,
   "id": "20c16cae-90fc-4324-8f25-c1db1dffbc4b",
   "metadata": {},
   "outputs": [],
   "source": [
    "cat_cols = ['sex', 'education', 'race']\n",
    "cont_cols = ['age', 'hours-per-week']\n",
    "features = cat_cols + cont_cols\n",
    "target = 'target'"
   ]
  },
  {
   "cell_type": "markdown",
   "id": "1e81b543-5ca6-4822-a2f1-3fda9924f01b",
   "metadata": {},
   "source": [
    "## Everything goes into a Pipeline"
   ]
  },
  {
   "cell_type": "code",
   "execution_count": 23,
   "id": "8a4c6bf0-90e9-4cd6-b19f-187ec27784a5",
   "metadata": {},
   "outputs": [],
   "source": [
    "from sklearn.compose import ColumnTransformer\n",
    "from sklearn.neighbors import KNeighborsClassifier\n",
    "from sklearn.tree import DecisionTreeClassifier\n",
    "from sklearn.preprocessing import OneHotEncoder, StandardScaler"
   ]
  },
  {
   "cell_type": "code",
   "execution_count": 24,
   "id": "e6f72bf2-6edc-49ba-89d4-48a0080f194e",
   "metadata": {},
   "outputs": [],
   "source": [
    "cat_trans = Pipeline(steps=[\n",
    "    ('onehot', OneHotEncoder(drop='first', min_frequency=0.05,\n",
    "                             handle_unknown='infrequent_if_exist'))])\n",
    "cont_trans = Pipeline(steps=[('scaler', StandardScaler())])\n",
    "feat_trans = ColumnTransformer(transformers=[\n",
    "    ('categorical', cat_trans, cat_cols),\n",
    "    ('continuous', cont_trans, cont_cols)])"
   ]
  },
  {
   "cell_type": "code",
   "execution_count": 25,
   "id": "61e2bd4f-f4f7-4f01-9233-c590112d8985",
   "metadata": {},
   "outputs": [],
   "source": [
    "def mk_tree(depth):\n",
    "    return Pipeline(steps=[\n",
    "        ('trans', feat_trans),\n",
    "        ('classifier', DecisionTreeClassifier(max_depth=depth))])"
   ]
  },
  {
   "cell_type": "code",
   "execution_count": 26,
   "id": "9662d39b-45a7-4307-99b7-aaa4ddf25db0",
   "metadata": {},
   "outputs": [
    {
     "data": {
      "text/html": [
       "<style>#sk-container-id-1 {color: black;background-color: white;}#sk-container-id-1 pre{padding: 0;}#sk-container-id-1 div.sk-toggleable {background-color: white;}#sk-container-id-1 label.sk-toggleable__label {cursor: pointer;display: block;width: 100%;margin-bottom: 0;padding: 0.3em;box-sizing: border-box;text-align: center;}#sk-container-id-1 label.sk-toggleable__label-arrow:before {content: \"▸\";float: left;margin-right: 0.25em;color: #696969;}#sk-container-id-1 label.sk-toggleable__label-arrow:hover:before {color: black;}#sk-container-id-1 div.sk-estimator:hover label.sk-toggleable__label-arrow:before {color: black;}#sk-container-id-1 div.sk-toggleable__content {max-height: 0;max-width: 0;overflow: hidden;text-align: left;background-color: #f0f8ff;}#sk-container-id-1 div.sk-toggleable__content pre {margin: 0.2em;color: black;border-radius: 0.25em;background-color: #f0f8ff;}#sk-container-id-1 input.sk-toggleable__control:checked~div.sk-toggleable__content {max-height: 200px;max-width: 100%;overflow: auto;}#sk-container-id-1 input.sk-toggleable__control:checked~label.sk-toggleable__label-arrow:before {content: \"▾\";}#sk-container-id-1 div.sk-estimator input.sk-toggleable__control:checked~label.sk-toggleable__label {background-color: #d4ebff;}#sk-container-id-1 div.sk-label input.sk-toggleable__control:checked~label.sk-toggleable__label {background-color: #d4ebff;}#sk-container-id-1 input.sk-hidden--visually {border: 0;clip: rect(1px 1px 1px 1px);clip: rect(1px, 1px, 1px, 1px);height: 1px;margin: -1px;overflow: hidden;padding: 0;position: absolute;width: 1px;}#sk-container-id-1 div.sk-estimator {font-family: monospace;background-color: #f0f8ff;border: 1px dotted black;border-radius: 0.25em;box-sizing: border-box;margin-bottom: 0.5em;}#sk-container-id-1 div.sk-estimator:hover {background-color: #d4ebff;}#sk-container-id-1 div.sk-parallel-item::after {content: \"\";width: 100%;border-bottom: 1px solid gray;flex-grow: 1;}#sk-container-id-1 div.sk-label:hover label.sk-toggleable__label {background-color: #d4ebff;}#sk-container-id-1 div.sk-serial::before {content: \"\";position: absolute;border-left: 1px solid gray;box-sizing: border-box;top: 0;bottom: 0;left: 50%;z-index: 0;}#sk-container-id-1 div.sk-serial {display: flex;flex-direction: column;align-items: center;background-color: white;padding-right: 0.2em;padding-left: 0.2em;position: relative;}#sk-container-id-1 div.sk-item {position: relative;z-index: 1;}#sk-container-id-1 div.sk-parallel {display: flex;align-items: stretch;justify-content: center;background-color: white;position: relative;}#sk-container-id-1 div.sk-item::before, #sk-container-id-1 div.sk-parallel-item::before {content: \"\";position: absolute;border-left: 1px solid gray;box-sizing: border-box;top: 0;bottom: 0;left: 50%;z-index: -1;}#sk-container-id-1 div.sk-parallel-item {display: flex;flex-direction: column;z-index: 1;position: relative;background-color: white;}#sk-container-id-1 div.sk-parallel-item:first-child::after {align-self: flex-end;width: 50%;}#sk-container-id-1 div.sk-parallel-item:last-child::after {align-self: flex-start;width: 50%;}#sk-container-id-1 div.sk-parallel-item:only-child::after {width: 0;}#sk-container-id-1 div.sk-dashed-wrapped {border: 1px dashed gray;margin: 0 0.4em 0.5em 0.4em;box-sizing: border-box;padding-bottom: 0.4em;background-color: white;}#sk-container-id-1 div.sk-label label {font-family: monospace;font-weight: bold;display: inline-block;line-height: 1.2em;}#sk-container-id-1 div.sk-label-container {text-align: center;}#sk-container-id-1 div.sk-container {/* jupyter's `normalize.less` sets `[hidden] { display: none; }` but bootstrap.min.css set `[hidden] { display: none !important; }` so we also need the `!important` here to be able to override the default hidden behavior on the sphinx rendered scikit-learn.org. See: https://github.com/scikit-learn/scikit-learn/issues/21755 */display: inline-block !important;position: relative;}#sk-container-id-1 div.sk-text-repr-fallback {display: none;}</style><div id=\"sk-container-id-1\" class=\"sk-top-container\"><div class=\"sk-text-repr-fallback\"><pre>Pipeline(steps=[(&#x27;trans&#x27;,\n",
       "                 ColumnTransformer(transformers=[(&#x27;categorical&#x27;,\n",
       "                                                  Pipeline(steps=[(&#x27;onehot&#x27;,\n",
       "                                                                   OneHotEncoder(drop=&#x27;first&#x27;,\n",
       "                                                                                 handle_unknown=&#x27;infrequent_if_exist&#x27;,\n",
       "                                                                                 min_frequency=0.05))]),\n",
       "                                                  [&#x27;sex&#x27;, &#x27;education&#x27;, &#x27;race&#x27;]),\n",
       "                                                 (&#x27;continuous&#x27;,\n",
       "                                                  Pipeline(steps=[(&#x27;scaler&#x27;,\n",
       "                                                                   StandardScaler())]),\n",
       "                                                  [&#x27;age&#x27;, &#x27;hours-per-week&#x27;])])),\n",
       "                (&#x27;classifier&#x27;, DecisionTreeClassifier(max_depth=3))])</pre><b>In a Jupyter environment, please rerun this cell to show the HTML representation or trust the notebook. <br />On GitHub, the HTML representation is unable to render, please try loading this page with nbviewer.org.</b></div><div class=\"sk-container\" hidden><div class=\"sk-item sk-dashed-wrapped\"><div class=\"sk-label-container\"><div class=\"sk-label sk-toggleable\"><input class=\"sk-toggleable__control sk-hidden--visually\" id=\"sk-estimator-id-1\" type=\"checkbox\" ><label for=\"sk-estimator-id-1\" class=\"sk-toggleable__label sk-toggleable__label-arrow\">Pipeline</label><div class=\"sk-toggleable__content\"><pre>Pipeline(steps=[(&#x27;trans&#x27;,\n",
       "                 ColumnTransformer(transformers=[(&#x27;categorical&#x27;,\n",
       "                                                  Pipeline(steps=[(&#x27;onehot&#x27;,\n",
       "                                                                   OneHotEncoder(drop=&#x27;first&#x27;,\n",
       "                                                                                 handle_unknown=&#x27;infrequent_if_exist&#x27;,\n",
       "                                                                                 min_frequency=0.05))]),\n",
       "                                                  [&#x27;sex&#x27;, &#x27;education&#x27;, &#x27;race&#x27;]),\n",
       "                                                 (&#x27;continuous&#x27;,\n",
       "                                                  Pipeline(steps=[(&#x27;scaler&#x27;,\n",
       "                                                                   StandardScaler())]),\n",
       "                                                  [&#x27;age&#x27;, &#x27;hours-per-week&#x27;])])),\n",
       "                (&#x27;classifier&#x27;, DecisionTreeClassifier(max_depth=3))])</pre></div></div></div><div class=\"sk-serial\"><div class=\"sk-item sk-dashed-wrapped\"><div class=\"sk-label-container\"><div class=\"sk-label sk-toggleable\"><input class=\"sk-toggleable__control sk-hidden--visually\" id=\"sk-estimator-id-2\" type=\"checkbox\" ><label for=\"sk-estimator-id-2\" class=\"sk-toggleable__label sk-toggleable__label-arrow\">trans: ColumnTransformer</label><div class=\"sk-toggleable__content\"><pre>ColumnTransformer(transformers=[(&#x27;categorical&#x27;,\n",
       "                                 Pipeline(steps=[(&#x27;onehot&#x27;,\n",
       "                                                  OneHotEncoder(drop=&#x27;first&#x27;,\n",
       "                                                                handle_unknown=&#x27;infrequent_if_exist&#x27;,\n",
       "                                                                min_frequency=0.05))]),\n",
       "                                 [&#x27;sex&#x27;, &#x27;education&#x27;, &#x27;race&#x27;]),\n",
       "                                (&#x27;continuous&#x27;,\n",
       "                                 Pipeline(steps=[(&#x27;scaler&#x27;, StandardScaler())]),\n",
       "                                 [&#x27;age&#x27;, &#x27;hours-per-week&#x27;])])</pre></div></div></div><div class=\"sk-parallel\"><div class=\"sk-parallel-item\"><div class=\"sk-item\"><div class=\"sk-label-container\"><div class=\"sk-label sk-toggleable\"><input class=\"sk-toggleable__control sk-hidden--visually\" id=\"sk-estimator-id-3\" type=\"checkbox\" ><label for=\"sk-estimator-id-3\" class=\"sk-toggleable__label sk-toggleable__label-arrow\">categorical</label><div class=\"sk-toggleable__content\"><pre>[&#x27;sex&#x27;, &#x27;education&#x27;, &#x27;race&#x27;]</pre></div></div></div><div class=\"sk-serial\"><div class=\"sk-item\"><div class=\"sk-serial\"><div class=\"sk-item\"><div class=\"sk-estimator sk-toggleable\"><input class=\"sk-toggleable__control sk-hidden--visually\" id=\"sk-estimator-id-4\" type=\"checkbox\" ><label for=\"sk-estimator-id-4\" class=\"sk-toggleable__label sk-toggleable__label-arrow\">OneHotEncoder</label><div class=\"sk-toggleable__content\"><pre>OneHotEncoder(drop=&#x27;first&#x27;, handle_unknown=&#x27;infrequent_if_exist&#x27;,\n",
       "              min_frequency=0.05)</pre></div></div></div></div></div></div></div></div><div class=\"sk-parallel-item\"><div class=\"sk-item\"><div class=\"sk-label-container\"><div class=\"sk-label sk-toggleable\"><input class=\"sk-toggleable__control sk-hidden--visually\" id=\"sk-estimator-id-5\" type=\"checkbox\" ><label for=\"sk-estimator-id-5\" class=\"sk-toggleable__label sk-toggleable__label-arrow\">continuous</label><div class=\"sk-toggleable__content\"><pre>[&#x27;age&#x27;, &#x27;hours-per-week&#x27;]</pre></div></div></div><div class=\"sk-serial\"><div class=\"sk-item\"><div class=\"sk-serial\"><div class=\"sk-item\"><div class=\"sk-estimator sk-toggleable\"><input class=\"sk-toggleable__control sk-hidden--visually\" id=\"sk-estimator-id-6\" type=\"checkbox\" ><label for=\"sk-estimator-id-6\" class=\"sk-toggleable__label sk-toggleable__label-arrow\">StandardScaler</label><div class=\"sk-toggleable__content\"><pre>StandardScaler()</pre></div></div></div></div></div></div></div></div></div></div><div class=\"sk-item\"><div class=\"sk-estimator sk-toggleable\"><input class=\"sk-toggleable__control sk-hidden--visually\" id=\"sk-estimator-id-7\" type=\"checkbox\" ><label for=\"sk-estimator-id-7\" class=\"sk-toggleable__label sk-toggleable__label-arrow\">DecisionTreeClassifier</label><div class=\"sk-toggleable__content\"><pre>DecisionTreeClassifier(max_depth=3)</pre></div></div></div></div></div></div></div>"
      ],
      "text/plain": [
       "Pipeline(steps=[('trans',\n",
       "                 ColumnTransformer(transformers=[('categorical',\n",
       "                                                  Pipeline(steps=[('onehot',\n",
       "                                                                   OneHotEncoder(drop='first',\n",
       "                                                                                 handle_unknown='infrequent_if_exist',\n",
       "                                                                                 min_frequency=0.05))]),\n",
       "                                                  ['sex', 'education', 'race']),\n",
       "                                                 ('continuous',\n",
       "                                                  Pipeline(steps=[('scaler',\n",
       "                                                                   StandardScaler())]),\n",
       "                                                  ['age', 'hours-per-week'])])),\n",
       "                ('classifier', DecisionTreeClassifier(max_depth=3))])"
      ]
     },
     "execution_count": 26,
     "metadata": {},
     "output_type": "execute_result"
    }
   ],
   "source": [
    "mk_tree(3)"
   ]
  },
  {
   "cell_type": "markdown",
   "id": "c289c855-3ca8-4853-92b3-6b8f0be70442",
   "metadata": {},
   "source": [
    "## Model evaluation"
   ]
  },
  {
   "cell_type": "code",
   "execution_count": 27,
   "id": "24a2e418-2596-490b-ac69-a9a358a93ed9",
   "metadata": {},
   "outputs": [],
   "source": [
    "from sklearn.model_selection import train_test_split\n",
    "import sklearn.metrics"
   ]
  },
  {
   "cell_type": "code",
   "execution_count": 28,
   "id": "5957f8c3-4eac-448e-baf2-7e10cfdd80d1",
   "metadata": {},
   "outputs": [],
   "source": [
    "Xtr, Xte, ytr, yte = train_test_split(df[features], df[target], test_size=0.3)"
   ]
  },
  {
   "cell_type": "code",
   "execution_count": 30,
   "id": "1c25f211-ee5a-4a1b-98a2-0ce3ad52d4c1",
   "metadata": {},
   "outputs": [
    {
     "data": {
      "text/plain": [
       "0.7876957723410789"
      ]
     },
     "execution_count": 30,
     "metadata": {},
     "output_type": "execute_result"
    }
   ],
   "source": [
    "sklearn.metrics.accuracy_score(yte, mk_tree(5).fit(Xtr, ytr).predict(Xte))"
   ]
  },
  {
   "cell_type": "code",
   "execution_count": 31,
   "id": "49f32b1a-81d3-4580-af53-a8b1edccf841",
   "metadata": {},
   "outputs": [],
   "source": [
    "def mk_score(depth):\n",
    "    Xtr, Xte, ytr, yte = train_test_split(df[features], df[target], test_size=0.3)\n",
    "    return sklearn.metrics.accuracy_score(yte, mk_tree(depth).fit(Xtr, ytr).predict(Xte))"
   ]
  },
  {
   "cell_type": "code",
   "execution_count": 32,
   "id": "84ed39ed-b1c3-4918-aeff-0a81c87e6342",
   "metadata": {},
   "outputs": [
    {
     "data": {
      "text/plain": [
       "<AxesSubplot:ylabel='Frequency'>"
      ]
     },
     "execution_count": 32,
     "metadata": {},
     "output_type": "execute_result"
    },
    {
     "data": {
      "image/png": "[encoded data removed]",
      "text/plain": [
       "<Figure size 432x288 with 1 Axes>"
      ]
     },
     "metadata": {
      "needs_background": "light"
     },
     "output_type": "display_data"
    }
   ],
   "source": [
    "pd.Series([mk_score(5) for _ in range(100)]).plot.hist() # still not reproducible, just the data is the same!"
   ]
  },
  {
   "cell_type": "code",
   "execution_count": 34,
   "id": "3b31d89e-95f1-4e45-933c-f64b89de7991",
   "metadata": {},
   "outputs": [],
   "source": [
    "def mk_score_improved(depth, seed):\n",
    "    Xtr, Xte, ytr, yte = train_test_split(df[features], df[target], test_size=0.3, random_state=seed)\n",
    "    return sklearn.metrics.accuracy_score(yte, mk_tree(depth).fit(Xtr, ytr).predict(Xte))"
   ]
  },
  {
   "cell_type": "code",
   "execution_count": 35,
   "id": "9b495c35-721b-4bfd-ad87-b652cd0563a2",
   "metadata": {},
   "outputs": [
    {
     "data": {
      "text/plain": [
       "[0.7881052308322244,\n",
       " 0.7881052308322244,\n",
       " 0.7881052308322244,\n",
       " 0.7881052308322244,\n",
       " 0.7881052308322244,\n",
       " 0.7881052308322244,\n",
       " 0.7881052308322244,\n",
       " 0.7881052308322244,\n",
       " 0.7881052308322244,\n",
       " 0.7881052308322244]"
      ]
     },
     "execution_count": 35,
     "metadata": {},
     "output_type": "execute_result"
    }
   ],
   "source": [
    "[mk_score_improved(5, 123) for _ in range(10)]"
   ]
  },
  {
   "cell_type": "code",
   "execution_count": 36,
   "id": "6e27a9e6-c097-4c0b-a151-7c74e1c29128",
   "metadata": {},
   "outputs": [
    {
     "data": {
      "text/plain": [
       "[array([0.76063258, 0.76136364, 0.76382064, 0.76581695, 0.76458845]),\n",
       " array([0.76063258, 0.76136364, 0.76382064, 0.76581695, 0.76458845]),\n",
       " array([0.76063258, 0.76136364, 0.76382064, 0.76581695, 0.76458845]),\n",
       " array([0.76063258, 0.76136364, 0.76382064, 0.76581695, 0.76458845]),\n",
       " array([0.76063258, 0.76136364, 0.76382064, 0.76581695, 0.76458845]),\n",
       " array([0.76063258, 0.76136364, 0.76382064, 0.76581695, 0.76458845]),\n",
       " array([0.76063258, 0.76136364, 0.76382064, 0.76581695, 0.76458845]),\n",
       " array([0.76063258, 0.76136364, 0.76382064, 0.76581695, 0.76458845]),\n",
       " array([0.76063258, 0.76136364, 0.76382064, 0.76581695, 0.76458845]),\n",
       " array([0.76063258, 0.76136364, 0.76382064, 0.76581695, 0.76458845])]"
      ]
     },
     "execution_count": 36,
     "metadata": {},
     "output_type": "execute_result"
    }
   ],
   "source": [
    "[cross_val_score(mk_tree(3), df[features], df[target]) for _ in range(10)] # no randomness"
   ]
  },
  {
   "cell_type": "markdown",
   "id": "7857a8cf-c310-41f3-9d95-6640ab5c3cda",
   "metadata": {},
   "source": [
    "## Random seeds for models"
   ]
  },
  {
   "cell_type": "code",
   "execution_count": 37,
   "id": "b451f584-6e53-4ef1-b72b-ca3606de62de",
   "metadata": {},
   "outputs": [],
   "source": [
    "from sklearn.ensemble import RandomForestClassifier"
   ]
  },
  {
   "cell_type": "code",
   "execution_count": 39,
   "id": "85798182-45dc-44ce-bd3d-2a67cec02c30",
   "metadata": {},
   "outputs": [],
   "source": [
    "def mk_forest(depth):\n",
    "    return Pipeline(steps=[\n",
    "        ('trans', feat_trans),\n",
    "        ('classifier', RandomForestClassifier(max_depth=depth))])"
   ]
  },
  {
   "cell_type": "code",
   "execution_count": 40,
   "id": "cdf6c33c-8034-404e-859c-a857c7005060",
   "metadata": {},
   "outputs": [
    {
     "data": {
      "text/plain": [
       "[array([0.76600645, 0.76965602, 0.76842752, 0.76812039, 0.76765971]),\n",
       " array([0.76600645, 0.76965602, 0.76796683, 0.76796683, 0.76765971])]"
      ]
     },
     "execution_count": 40,
     "metadata": {},
     "output_type": "execute_result"
    }
   ],
   "source": [
    "[cross_val_score(mk_forest(3), df[features], df[target]) for _ in range(2)] # randomness from random forest"
   ]
  },
  {
   "cell_type": "code",
   "execution_count": 42,
   "id": "6083e253-9331-4ed3-bbe1-c81a79a6f64c",
   "metadata": {},
   "outputs": [],
   "source": [
    "def mk_forest_improved(depth, seed):\n",
    "    return Pipeline(steps=[\n",
    "        ('trans', feat_trans),\n",
    "        ('classifier', RandomForestClassifier(max_depth=depth, random_state=seed))])"
   ]
  },
  {
   "cell_type": "code",
   "execution_count": 43,
   "id": "87d305e0-4b56-404f-ab2f-a871fd09527d",
   "metadata": {},
   "outputs": [
    {
     "data": {
      "text/plain": [
       "[array([0.76600645, 0.76965602, 0.76796683, 0.76796683, 0.76781327]),\n",
       " array([0.76600645, 0.76965602, 0.76796683, 0.76796683, 0.76781327])]"
      ]
     },
     "execution_count": 43,
     "metadata": {},
     "output_type": "execute_result"
    }
   ],
   "source": [
    "[cross_val_score(mk_forest_improved(3, 42), df[features], df[target]) for _ in range(2)] # no randomness from random forest"
   ]
  },
  {
   "cell_type": "markdown",
   "id": "1c3262e6-909e-4c85-91c9-3521b80cc76c",
   "metadata": {},
   "source": [
    "# Privacy: Randomization"
   ]
  },
  {
   "cell_type": "code",
   "execution_count": 44,
   "id": "00d56378-c700-4b78-8d5c-7eed9fffa42b",
   "metadata": {},
   "outputs": [],
   "source": [
    "values = numpy.random.choice([0, 1], 10_000)"
   ]
  },
  {
   "cell_type": "code",
   "execution_count": 45,
   "id": "dcd37a8f-8a53-4263-a1ce-6c6d952c22a5",
   "metadata": {},
   "outputs": [
    {
     "data": {
      "text/plain": [
       "0.5008"
      ]
     },
     "execution_count": 45,
     "metadata": {},
     "output_type": "execute_result"
    }
   ],
   "source": [
    "values.mean()"
   ]
  },
  {
   "cell_type": "code",
   "execution_count": 47,
   "id": "a7b56676-ed38-4807-a6e8-73e046302b9a",
   "metadata": {},
   "outputs": [],
   "source": [
    "def randomize(a, theta):\n",
    "    coins = numpy.random.choice([True, False], p=(theta, (1-theta)), size=a.shape)\n",
    "    noise = numpy.random.choice([0, 1], size=a.shape)\n",
    "    response = numpy.array(a)\n",
    "    response[~coins] = noise[~coins]\n",
    "    return response"
   ]
  },
  {
   "cell_type": "code",
   "execution_count": 48,
   "id": "63789004-57c8-4f6f-8ddb-b32635197e30",
   "metadata": {},
   "outputs": [
    {
     "data": {
      "text/plain": [
       "array([1, 0, 0, 1, 0, 1, 1, 1, 1, 0])"
      ]
     },
     "execution_count": 48,
     "metadata": {},
     "output_type": "execute_result"
    }
   ],
   "source": [
    "randomize(values, 0.8)[:10]"
   ]
  },
  {
   "cell_type": "code",
   "execution_count": 49,
   "id": "c97bef08-464c-47f2-b966-b2900c170b77",
   "metadata": {},
   "outputs": [
    {
     "data": {
      "text/plain": [
       "0.5018"
      ]
     },
     "execution_count": 49,
     "metadata": {},
     "output_type": "execute_result"
    }
   ],
   "source": [
    "randomize(values, 0.8).mean()"
   ]
  },
  {
   "cell_type": "code",
   "execution_count": 50,
   "id": "f0304f25-1476-453c-83df-679b9b3d9c85",
   "metadata": {},
   "outputs": [],
   "source": [
    "values = numpy.random.choice([0, 1], 10_000, p=(0.8, 0.2))"
   ]
  },
  {
   "cell_type": "code",
   "execution_count": 51,
   "id": "c4eb06cb-a07f-4ef7-8eca-6e9cfc1461de",
   "metadata": {},
   "outputs": [
    {
     "data": {
      "text/plain": [
       "0.2028"
      ]
     },
     "execution_count": 51,
     "metadata": {},
     "output_type": "execute_result"
    }
   ],
   "source": [
    "values.mean()"
   ]
  },
  {
   "cell_type": "code",
   "execution_count": 52,
   "id": "c1d859ce-c171-4aaa-8172-4cafb416683f",
   "metadata": {},
   "outputs": [
    {
     "data": {
      "text/plain": [
       "0.2607"
      ]
     },
     "execution_count": 52,
     "metadata": {},
     "output_type": "execute_result"
    }
   ],
   "source": [
    "randomize(values, 0.8).mean()"
   ]
  },
  {
   "cell_type": "code",
   "execution_count": 53,
   "id": "9e2cfa72-c5a6-4688-b087-6bc9e45377f3",
   "metadata": {},
   "outputs": [
    {
     "data": {
      "text/plain": [
       "0.26"
      ]
     },
     "execution_count": 53,
     "metadata": {},
     "output_type": "execute_result"
    }
   ],
   "source": [
    "# theta * p + (1-theta)*1/2\n",
    "0.8 * 0.2 + (1-0.8)/2"
   ]
  },
  {
   "cell_type": "markdown",
   "id": "f78bf794-655a-4982-8a7a-43eedcde8935",
   "metadata": {},
   "source": [
    "## Use random mechanism in a model"
   ]
  },
  {
   "cell_type": "code",
   "execution_count": 54,
   "id": "54ea4928-baa4-47b6-a0c8-0c449c2bed2c",
   "metadata": {},
   "outputs": [],
   "source": [
    "from sklearn.preprocessing import FunctionTransformer"
   ]
  },
  {
   "cell_type": "code",
   "execution_count": 64,
   "id": "45cd982f-ddf1-4c56-a777-09d72aec9346",
   "metadata": {},
   "outputs": [
    {
     "data": {
      "text/plain": [
       "0         True\n",
       "1         True\n",
       "2        False\n",
       "3        False\n",
       "4         True\n",
       "         ...  \n",
       "32556    False\n",
       "32557    False\n",
       "32558    False\n",
       "32559    False\n",
       "32560    False\n",
       "Name: education, Length: 32561, dtype: bool"
      ]
     },
     "execution_count": 64,
     "metadata": {},
     "output_type": "execute_result"
    }
   ],
   "source": [
    "df['education'].isin([' Masters', ' Bachelors']) # whitespace issues"
   ]
  },
  {
   "cell_type": "code",
   "execution_count": 63,
   "id": "03177069-e804-4516-b9e9-fa9d58b078b0",
   "metadata": {},
   "outputs": [
    {
     "data": {
      "text/plain": [
       "0.05291606523141181"
      ]
     },
     "execution_count": 63,
     "metadata": {},
     "output_type": "execute_result"
    }
   ],
   "source": [
    "df['education'].isin([' Masters']).mean()"
   ]
  },
  {
   "cell_type": "code",
   "execution_count": 65,
   "id": "073d6d4d-dd97-4b52-ac88-0531e2245b1d",
   "metadata": {},
   "outputs": [
    {
     "data": {
      "text/plain": [
       "0        1\n",
       "1        1\n",
       "2        0\n",
       "3        0\n",
       "4        1\n",
       "        ..\n",
       "32556    0\n",
       "32557    0\n",
       "32558    0\n",
       "32559    0\n",
       "32560    0\n",
       "Name: education, Length: 32561, dtype: int64"
      ]
     },
     "execution_count": 65,
     "metadata": {},
     "output_type": "execute_result"
    }
   ],
   "source": [
    "df['education'].isin([' Masters', ' Bachelors'])*1"
   ]
  },
  {
   "cell_type": "code",
   "execution_count": 70,
   "id": "8e09b204-937b-4af6-a5aa-945800b601ca",
   "metadata": {},
   "outputs": [],
   "source": [
    "higher_ed = [' Masters', ' Bachelors', ' Doctorate', ' Prof-school']\n",
    "\n",
    "def mk_randomized_pipeline(theta):\n",
    "    return Pipeline(steps=[\n",
    "        ('higher-ed', FunctionTransformer(lambda x: x.isin(higher_ed)*1)),\n",
    "        ('randomize', FunctionTransformer(randomize, kw_args={'theta': theta}))\n",
    "    ])"
   ]
  },
  {
   "cell_type": "code",
   "execution_count": 71,
   "id": "4560abef-3d01-4622-a085-aeab3ec9e00b",
   "metadata": {},
   "outputs": [],
   "source": [
    "def feature_transform(theta):\n",
    "    return ColumnTransformer(transformers=[\n",
    "        ('randomize_ed', mk_randomized_pipeline(theta), ['education']),\n",
    "        ('age-hours', FunctionTransformer(), ['age', 'hours-per-week'])])\n",
    "\n",
    "def mk_model(theta, d):\n",
    "    return Pipeline(steps=[\n",
    "        ('feature_trans', feature_transform(theta)),\n",
    "        ('classifier', DecisionTreeClassifier(max_depth=d))])"
   ]
  },
  {
   "cell_type": "code",
   "execution_count": 72,
   "id": "3876e6f0-7ad5-4ea0-9ce3-b45104f80729",
   "metadata": {},
   "outputs": [
    {
     "data": {
      "text/html": [
       "<style>#sk-container-id-2 {color: black;background-color: white;}#sk-container-id-2 pre{padding: 0;}#sk-container-id-2 div.sk-toggleable {background-color: white;}#sk-container-id-2 label.sk-toggleable__label {cursor: pointer;display: block;width: 100%;margin-bottom: 0;padding: 0.3em;box-sizing: border-box;text-align: center;}#sk-container-id-2 label.sk-toggleable__label-arrow:before {content: \"▸\";float: left;margin-right: 0.25em;color: #696969;}#sk-container-id-2 label.sk-toggleable__label-arrow:hover:before {color: black;}#sk-container-id-2 div.sk-estimator:hover label.sk-toggleable__label-arrow:before {color: black;}#sk-container-id-2 div.sk-toggleable__content {max-height: 0;max-width: 0;overflow: hidden;text-align: left;background-color: #f0f8ff;}#sk-container-id-2 div.sk-toggleable__content pre {margin: 0.2em;color: black;border-radius: 0.25em;background-color: #f0f8ff;}#sk-container-id-2 input.sk-toggleable__control:checked~div.sk-toggleable__content {max-height: 200px;max-width: 100%;overflow: auto;}#sk-container-id-2 input.sk-toggleable__control:checked~label.sk-toggleable__label-arrow:before {content: \"▾\";}#sk-container-id-2 div.sk-estimator input.sk-toggleable__control:checked~label.sk-toggleable__label {background-color: #d4ebff;}#sk-container-id-2 div.sk-label input.sk-toggleable__control:checked~label.sk-toggleable__label {background-color: #d4ebff;}#sk-container-id-2 input.sk-hidden--visually {border: 0;clip: rect(1px 1px 1px 1px);clip: rect(1px, 1px, 1px, 1px);height: 1px;margin: -1px;overflow: hidden;padding: 0;position: absolute;width: 1px;}#sk-container-id-2 div.sk-estimator {font-family: monospace;background-color: #f0f8ff;border: 1px dotted black;border-radius: 0.25em;box-sizing: border-box;margin-bottom: 0.5em;}#sk-container-id-2 div.sk-estimator:hover {background-color: #d4ebff;}#sk-container-id-2 div.sk-parallel-item::after {content: \"\";width: 100%;border-bottom: 1px solid gray;flex-grow: 1;}#sk-container-id-2 div.sk-label:hover label.sk-toggleable__label {background-color: #d4ebff;}#sk-container-id-2 div.sk-serial::before {content: \"\";position: absolute;border-left: 1px solid gray;box-sizing: border-box;top: 0;bottom: 0;left: 50%;z-index: 0;}#sk-container-id-2 div.sk-serial {display: flex;flex-direction: column;align-items: center;background-color: white;padding-right: 0.2em;padding-left: 0.2em;position: relative;}#sk-container-id-2 div.sk-item {position: relative;z-index: 1;}#sk-container-id-2 div.sk-parallel {display: flex;align-items: stretch;justify-content: center;background-color: white;position: relative;}#sk-container-id-2 div.sk-item::before, #sk-container-id-2 div.sk-parallel-item::before {content: \"\";position: absolute;border-left: 1px solid gray;box-sizing: border-box;top: 0;bottom: 0;left: 50%;z-index: -1;}#sk-container-id-2 div.sk-parallel-item {display: flex;flex-direction: column;z-index: 1;position: relative;background-color: white;}#sk-container-id-2 div.sk-parallel-item:first-child::after {align-self: flex-end;width: 50%;}#sk-container-id-2 div.sk-parallel-item:last-child::after {align-self: flex-start;width: 50%;}#sk-container-id-2 div.sk-parallel-item:only-child::after {width: 0;}#sk-container-id-2 div.sk-dashed-wrapped {border: 1px dashed gray;margin: 0 0.4em 0.5em 0.4em;box-sizing: border-box;padding-bottom: 0.4em;background-color: white;}#sk-container-id-2 div.sk-label label {font-family: monospace;font-weight: bold;display: inline-block;line-height: 1.2em;}#sk-container-id-2 div.sk-label-container {text-align: center;}#sk-container-id-2 div.sk-container {/* jupyter's `normalize.less` sets `[hidden] { display: none; }` but bootstrap.min.css set `[hidden] { display: none !important; }` so we also need the `!important` here to be able to override the default hidden behavior on the sphinx rendered scikit-learn.org. See: https://github.com/scikit-learn/scikit-learn/issues/21755 */display: inline-block !important;position: relative;}#sk-container-id-2 div.sk-text-repr-fallback {display: none;}</style><div id=\"sk-container-id-2\" class=\"sk-top-container\"><div class=\"sk-text-repr-fallback\"><pre>Pipeline(steps=[(&#x27;feature_trans&#x27;,\n",
       "                 ColumnTransformer(transformers=[(&#x27;randomize_ed&#x27;,\n",
       "                                                  Pipeline(steps=[(&#x27;higher-ed&#x27;,\n",
       "                                                                   FunctionTransformer(func=&lt;function mk_randomized_pipeline.&lt;locals&gt;.&lt;lambda&gt; at 0x29a04e5f0&gt;)),\n",
       "                                                                  (&#x27;randomize&#x27;,\n",
       "                                                                   FunctionTransformer(func=&lt;function randomize at 0x299f65fc0&gt;,\n",
       "                                                                                       kw_args={&#x27;theta&#x27;: 0.3}))]),\n",
       "                                                  [&#x27;education&#x27;]),\n",
       "                                                 (&#x27;age-hours&#x27;,\n",
       "                                                  FunctionTransformer(),\n",
       "                                                  [&#x27;age&#x27;, &#x27;hours-per-week&#x27;])])),\n",
       "                (&#x27;classifier&#x27;, DecisionTreeClassifier(max_depth=5))])</pre><b>In a Jupyter environment, please rerun this cell to show the HTML representation or trust the notebook. <br />On GitHub, the HTML representation is unable to render, please try loading this page with nbviewer.org.</b></div><div class=\"sk-container\" hidden><div class=\"sk-item sk-dashed-wrapped\"><div class=\"sk-label-container\"><div class=\"sk-label sk-toggleable\"><input class=\"sk-toggleable__control sk-hidden--visually\" id=\"sk-estimator-id-8\" type=\"checkbox\" ><label for=\"sk-estimator-id-8\" class=\"sk-toggleable__label sk-toggleable__label-arrow\">Pipeline</label><div class=\"sk-toggleable__content\"><pre>Pipeline(steps=[(&#x27;feature_trans&#x27;,\n",
       "                 ColumnTransformer(transformers=[(&#x27;randomize_ed&#x27;,\n",
       "                                                  Pipeline(steps=[(&#x27;higher-ed&#x27;,\n",
       "                                                                   FunctionTransformer(func=&lt;function mk_randomized_pipeline.&lt;locals&gt;.&lt;lambda&gt; at 0x29a04e5f0&gt;)),\n",
       "                                                                  (&#x27;randomize&#x27;,\n",
       "                                                                   FunctionTransformer(func=&lt;function randomize at 0x299f65fc0&gt;,\n",
       "                                                                                       kw_args={&#x27;theta&#x27;: 0.3}))]),\n",
       "                                                  [&#x27;education&#x27;]),\n",
       "                                                 (&#x27;age-hours&#x27;,\n",
       "                                                  FunctionTransformer(),\n",
       "                                                  [&#x27;age&#x27;, &#x27;hours-per-week&#x27;])])),\n",
       "                (&#x27;classifier&#x27;, DecisionTreeClassifier(max_depth=5))])</pre></div></div></div><div class=\"sk-serial\"><div class=\"sk-item sk-dashed-wrapped\"><div class=\"sk-label-container\"><div class=\"sk-label sk-toggleable\"><input class=\"sk-toggleable__control sk-hidden--visually\" id=\"sk-estimator-id-9\" type=\"checkbox\" ><label for=\"sk-estimator-id-9\" class=\"sk-toggleable__label sk-toggleable__label-arrow\">feature_trans: ColumnTransformer</label><div class=\"sk-toggleable__content\"><pre>ColumnTransformer(transformers=[(&#x27;randomize_ed&#x27;,\n",
       "                                 Pipeline(steps=[(&#x27;higher-ed&#x27;,\n",
       "                                                  FunctionTransformer(func=&lt;function mk_randomized_pipeline.&lt;locals&gt;.&lt;lambda&gt; at 0x29a04e5f0&gt;)),\n",
       "                                                 (&#x27;randomize&#x27;,\n",
       "                                                  FunctionTransformer(func=&lt;function randomize at 0x299f65fc0&gt;,\n",
       "                                                                      kw_args={&#x27;theta&#x27;: 0.3}))]),\n",
       "                                 [&#x27;education&#x27;]),\n",
       "                                (&#x27;age-hours&#x27;, FunctionTransformer(),\n",
       "                                 [&#x27;age&#x27;, &#x27;hours-per-week&#x27;])])</pre></div></div></div><div class=\"sk-parallel\"><div class=\"sk-parallel-item\"><div class=\"sk-item\"><div class=\"sk-label-container\"><div class=\"sk-label sk-toggleable\"><input class=\"sk-toggleable__control sk-hidden--visually\" id=\"sk-estimator-id-10\" type=\"checkbox\" ><label for=\"sk-estimator-id-10\" class=\"sk-toggleable__label sk-toggleable__label-arrow\">randomize_ed</label><div class=\"sk-toggleable__content\"><pre>[&#x27;education&#x27;]</pre></div></div></div><div class=\"sk-serial\"><div class=\"sk-item\"><div class=\"sk-serial\"><div class=\"sk-item\"><div class=\"sk-estimator sk-toggleable\"><input class=\"sk-toggleable__control sk-hidden--visually\" id=\"sk-estimator-id-11\" type=\"checkbox\" ><label for=\"sk-estimator-id-11\" class=\"sk-toggleable__label sk-toggleable__label-arrow\">FunctionTransformer</label><div class=\"sk-toggleable__content\"><pre>FunctionTransformer(func=&lt;function mk_randomized_pipeline.&lt;locals&gt;.&lt;lambda&gt; at 0x29a04e5f0&gt;)</pre></div></div></div><div class=\"sk-item\"><div class=\"sk-estimator sk-toggleable\"><input class=\"sk-toggleable__control sk-hidden--visually\" id=\"sk-estimator-id-12\" type=\"checkbox\" ><label for=\"sk-estimator-id-12\" class=\"sk-toggleable__label sk-toggleable__label-arrow\">FunctionTransformer</label><div class=\"sk-toggleable__content\"><pre>FunctionTransformer(func=&lt;function randomize at 0x299f65fc0&gt;,\n",
       "                    kw_args={&#x27;theta&#x27;: 0.3})</pre></div></div></div></div></div></div></div></div><div class=\"sk-parallel-item\"><div class=\"sk-item\"><div class=\"sk-label-container\"><div class=\"sk-label sk-toggleable\"><input class=\"sk-toggleable__control sk-hidden--visually\" id=\"sk-estimator-id-13\" type=\"checkbox\" ><label for=\"sk-estimator-id-13\" class=\"sk-toggleable__label sk-toggleable__label-arrow\">age-hours</label><div class=\"sk-toggleable__content\"><pre>[&#x27;age&#x27;, &#x27;hours-per-week&#x27;]</pre></div></div></div><div class=\"sk-serial\"><div class=\"sk-item\"><div class=\"sk-estimator sk-toggleable\"><input class=\"sk-toggleable__control sk-hidden--visually\" id=\"sk-estimator-id-14\" type=\"checkbox\" ><label for=\"sk-estimator-id-14\" class=\"sk-toggleable__label sk-toggleable__label-arrow\">FunctionTransformer</label><div class=\"sk-toggleable__content\"><pre>FunctionTransformer()</pre></div></div></div></div></div></div></div></div><div class=\"sk-item\"><div class=\"sk-estimator sk-toggleable\"><input class=\"sk-toggleable__control sk-hidden--visually\" id=\"sk-estimator-id-15\" type=\"checkbox\" ><label for=\"sk-estimator-id-15\" class=\"sk-toggleable__label sk-toggleable__label-arrow\">DecisionTreeClassifier</label><div class=\"sk-toggleable__content\"><pre>DecisionTreeClassifier(max_depth=5)</pre></div></div></div></div></div></div></div>"
      ],
      "text/plain": [
       "Pipeline(steps=[('feature_trans',\n",
       "                 ColumnTransformer(transformers=[('randomize_ed',\n",
       "                                                  Pipeline(steps=[('higher-ed',\n",
       "                                                                   FunctionTransformer(func=<function mk_randomized_pipeline.<locals>.<lambda> at 0x29a04e5f0>)),\n",
       "                                                                  ('randomize',\n",
       "                                                                   FunctionTransformer(func=<function randomize at 0x299f65fc0>,\n",
       "                                                                                       kw_args={'theta': 0.3}))]),\n",
       "                                                  ['education']),\n",
       "                                                 ('age-hours',\n",
       "                                                  FunctionTransformer(),\n",
       "                                                  ['age', 'hours-per-week'])])),\n",
       "                ('classifier', DecisionTreeClassifier(max_depth=5))])"
      ]
     },
     "execution_count": 72,
     "metadata": {},
     "output_type": "execute_result"
    }
   ],
   "source": [
    "mk_model(0.3, 5).fit(df, df[target])"
   ]
  },
  {
   "cell_type": "code",
   "execution_count": 73,
   "id": "0531366c-6a82-4443-bb63-8b797d21bf23",
   "metadata": {},
   "outputs": [
    {
     "data": {
      "text/plain": [
       "array([0.76585291, 0.77042383, 0.77211302, 0.76612408, 0.76934889])"
      ]
     },
     "execution_count": 73,
     "metadata": {},
     "output_type": "execute_result"
    }
   ],
   "source": [
    "cross_val_score(mk_model(0.3, 5), df, df[target])"
   ]
  },
  {
   "cell_type": "code",
   "execution_count": 76,
   "id": "e7230071-9fbf-4f85-82f5-70f47cb1461c",
   "metadata": {},
   "outputs": [],
   "source": [
    "thetas = numpy.linspace(0.2, 1.0, 15)\n",
    "scores = [cross_val_score(mk_model(theta, 5), df, df[target])\n",
    "          for theta in thetas]"
   ]
  },
  {
   "cell_type": "code",
   "execution_count": 78,
   "id": "8a296b15-24cb-4aa0-952a-3daa0f73b399",
   "metadata": {},
   "outputs": [
    {
     "data": {
      "text/plain": [
       "<AxesSubplot:>"
      ]
     },
     "execution_count": 78,
     "metadata": {},
     "output_type": "execute_result"
    },
    {
     "data": {
      "image/png": "[encoded data removed]",
      "text/plain": [
       "<Figure size 432x288 with 1 Axes>"
      ]
     },
     "metadata": {
      "needs_background": "light"
     },
     "output_type": "display_data"
    }
   ],
   "source": [
    "pd.Series([s.mean() for s in scores], index=thetas).plot.line()"
   ]
  },
  {
   "cell_type": "code",
   "execution_count": null,
   "id": "f54f87fd-c411-4884-b74d-a22cdb771cea",
   "metadata": {},
   "outputs": [],
   "source": []
  }
 ],
 "metadata": {
  "kernelspec": {
   "display_name": "Python 3 (ipykernel)",
   "language": "python",
   "name": "python3"
  },
  "language_info": {
   "codemirror_mode": {
    "name": "ipython",
    "version": 3
   },
   "file_extension": ".py",
   "mimetype": "text/x-python",
   "name": "python",
   "nbconvert_exporter": "python",
   "pygments_lexer": "ipython3",
   "version": "3.10.4"
  }
 },
 "nbformat": 4,
 "nbformat_minor": 5
}
